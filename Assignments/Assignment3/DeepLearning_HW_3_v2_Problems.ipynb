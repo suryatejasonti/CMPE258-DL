{
 "cells": [
  {
   "cell_type": "markdown",
   "metadata": {},
   "source": [
    "## (30%) Training a sequence classifier for MNIST data\n",
    "\n",
    "Let’s train an RNN to classify MNIST images. A convolutional neural network would\n",
    "be better suited for image classification (see Chapter 13), but this makes for a simple\n",
    "example that you are already familiar with. We will treat each image as a sequence of\n",
    "28 rows of 28 pixels each (since each MNIST image is 28 × 28 pixels). \n",
    "Your can design your own cell with some numbers of recurrent neurons (a parameter to tune) with a fully connected layer containing 10 neurons (one per class) connected to the output of the last time step. You can begin with a single layer."
   ]
  },
  {
   "cell_type": "code",
   "execution_count": 3,
   "metadata": {},
   "outputs": [
    {
     "name": "stderr",
     "output_type": "stream",
     "text": [
      "Using TensorFlow backend.\n"
     ]
    }
   ],
   "source": [
    "%matplotlib inline\n",
    "\n",
    "from keras.models import Sequential\n",
    "from keras.layers import Dense, Activation, Dropout\n",
    "from keras.layers.recurrent import SimpleRNN, LSTM, GRU \n",
    "from keras.utils import np_utils\n",
    "from keras import backend as K\n",
    "\n",
    "from distutils.version import LooseVersion as LV\n",
    "from keras import __version__\n",
    "\n",
    "from IPython.display import SVG\n",
    "from keras.utils.vis_utils import model_to_dot\n",
    "\n",
    "import numpy as np\n",
    "import matplotlib.pyplot as plt\n",
    "import seaborn as sns"
   ]
  },
  {
   "cell_type": "code",
   "execution_count": 4,
   "metadata": {},
   "outputs": [
    {
     "name": "stdout",
     "output_type": "stream",
     "text": [
      "Downloading data from https://s3.amazonaws.com/img-datasets/mnist.npz\n",
      "11493376/11490434 [==============================] - 6s 0us/step\n",
      "\n",
      "MNIST data loaded: train: 60000 test: 10000\n",
      "X_train: (60000, 28, 28)\n",
      "y_train: (60000,)\n",
      "Y_train: (60000, 10)\n"
     ]
    }
   ],
   "source": [
    "from keras.datasets import mnist\n",
    "(X_train, y_train), (X_test, y_test) = mnist.load_data()\n",
    "nb_classes = 10\n",
    "img_rows, img_cols = 28, 28\n",
    "\n",
    "X_train = X_train.astype('float32')\n",
    "X_test = X_test.astype('float32')\n",
    "X_train /= 255\n",
    "X_test /= 255\n",
    "\n",
    "# one-hot encoding:\n",
    "Y_train = np_utils.to_categorical(y_train, nb_classbbbes)\n",
    "Y_test = np_utils.to_categorical(y_test, nb_classes)\n",
    "\n",
    "print()\n",
    "print('MNIST data loaded: train:',len(X_train),'test:',len(X_test))\n",
    "print('X_train:', X_train.shape)\n",
    "print('y_train:', y_train.shape)\n",
    "print('Y_train:', Y_train.shape)"
   ]
  },
  {
   "cell_type": "code",
   "execution_count": 11,
   "metadata": {},
   "outputs": [
    {
     "name": "stdout",
     "output_type": "stream",
     "text": [
      "_________________________________________________________________\n",
      "Layer (type)                 Output Shape              Param #   \n",
      "=================================================================\n",
      "simple_rnn_2 (SimpleRNN)     (None, 50)                3950      \n",
      "_________________________________________________________________\n",
      "dense_2 (Dense)              (None, 10)                510       \n",
      "_________________________________________________________________\n",
      "activation_2 (Activation)    (None, 10)                0         \n",
      "=================================================================\n",
      "Total params: 4,460\n",
      "Trainable params: 4,460\n",
      "Non-trainable params: 0\n",
      "_________________________________________________________________\n",
      "None\n"
     ]
    }
   ],
   "source": [
    "# Number of hidden units to use:\n",
    "nb_units = 50\n",
    "\n",
    "model = Sequential()\n",
    "\n",
    "# Recurrent layers supported: SimpleRNN, LSTM, GRU:\n",
    "model.add(SimpleRNN(nb_units,\n",
    "                    input_shape=(img_rows, img_cols)))\n",
    "\n",
    "# To stack multiple RNN layers, all RNN layers except the last one need\n",
    "# to have \"return_sequences=True\".  An example of using two RNN layers:\n",
    "#model.add(SimpleRNN(16,\n",
    "#                    input_shape=(img_rows, img_cols),\n",
    "#                    return_sequences=True))\n",
    "#model.add(SimpleRNN(32))\n",
    "\n",
    "model.add(Dense(units=nb_classes))\n",
    "model.add(Activation('softmax'))\n",
    "\n",
    "model.compile(loss='categorical_crossentropy',\n",
    "              optimizer='adam',\n",
    "              metrics=['accuracy'])\n",
    "\n",
    "print(model.summary())"
   ]
  },
  {
   "cell_type": "code",
   "execution_count": 12,
   "metadata": {},
   "outputs": [
    {
     "name": "stdout",
     "output_type": "stream",
     "text": [
      "Epoch 1/20\n",
      " - 3s - loss: 0.8396 - acc: 0.7284\n",
      "Epoch 2/20\n",
      " - 3s - loss: 0.3607 - acc: 0.8938\n",
      "Epoch 3/20\n",
      " - 3s - loss: 0.2787 - acc: 0.9186\n",
      "Epoch 4/20\n",
      " - 3s - loss: 0.2378 - acc: 0.9302\n",
      "Epoch 5/20\n",
      " - 3s - loss: 0.2048 - acc: 0.9409\n",
      "Epoch 6/20\n",
      " - 3s - loss: 0.1877 - acc: 0.9458\n",
      "Epoch 7/20\n",
      " - 3s - loss: 0.1735 - acc: 0.9489\n",
      "Epoch 8/20\n",
      " - 3s - loss: 0.1623 - acc: 0.9533\n",
      "Epoch 9/20\n",
      " - 3s - loss: 0.1586 - acc: 0.9543\n",
      "Epoch 10/20\n",
      " - 3s - loss: 0.1468 - acc: 0.9580\n",
      "Epoch 11/20\n",
      " - 3s - loss: 0.1419 - acc: 0.9593\n",
      "Epoch 12/20\n",
      " - 3s - loss: 0.1387 - acc: 0.9600\n",
      "Epoch 13/20\n",
      " - 3s - loss: 0.1322 - acc: 0.9617\n",
      "Epoch 14/20\n",
      " - 3s - loss: 0.1259 - acc: 0.9641\n",
      "Epoch 15/20\n",
      " - 3s - loss: 0.1261 - acc: 0.9637\n",
      "Epoch 16/20\n",
      " - 3s - loss: 0.1222 - acc: 0.9649\n",
      "Epoch 17/20\n",
      " - 3s - loss: 0.1179 - acc: 0.9665\n",
      "Epoch 18/20\n",
      " - 3s - loss: 0.1183 - acc: 0.9661\n",
      "Epoch 19/20\n",
      " - 3s - loss: 0.1104 - acc: 0.9681\n",
      "Epoch 20/20\n",
      " - 3s - loss: 0.1141 - acc: 0.9672\n"
     ]
    }
   ],
   "source": [
    "epochs = 20\n",
    "\n",
    "history = model.fit(X_train, \n",
    "                    Y_train, \n",
    "                    epochs=epochs, \n",
    "                    batch_size=128,\n",
    "                    verbose=2)"
   ]
  },
  {
   "cell_type": "code",
   "execution_count": 13,
   "metadata": {},
   "outputs": [
    {
     "name": "stdout",
     "output_type": "stream",
     "text": [
      "loss: 0.11%\n",
      "acc: 0.97%\n"
     ]
    }
   ],
   "source": [
    "#%%time\n",
    "scores = model.evaluate(X_test, Y_test, verbose=2)\n",
    "print(\"%s: %.2f%%\" % (model.metrics_names[0], scores[0]))\n",
    "print(\"%s: %.2f%%\" % (model.metrics_names[1], scores[1]))"
   ]
  },
  {
   "cell_type": "markdown",
   "metadata": {},
   "source": [
    "## Can you try Multi-layer RNN? "
   ]
  },
  {
   "cell_type": "code",
   "execution_count": 16,
   "metadata": {},
   "outputs": [
    {
     "name": "stdout",
     "output_type": "stream",
     "text": [
      "_________________________________________________________________\n",
      "Layer (type)                 Output Shape              Param #   \n",
      "=================================================================\n",
      "simple_rnn_7 (SimpleRNN)     (None, 28, 50)            3950      \n",
      "_________________________________________________________________\n",
      "simple_rnn_8 (SimpleRNN)     (None, 16)                1072      \n",
      "_________________________________________________________________\n",
      "dense_3 (Dense)              (None, 10)                170       \n",
      "_________________________________________________________________\n",
      "activation_3 (Activation)    (None, 10)                0         \n",
      "=================================================================\n",
      "Total params: 5,192\n",
      "Trainable params: 5,192\n",
      "Non-trainable params: 0\n",
      "_________________________________________________________________\n",
      "None\n"
     ]
    }
   ],
   "source": [
    "# Number of hidden units to use:\n",
    "nb_units = 50\n",
    "\n",
    "model = Sequential()\n",
    "\n",
    "# Recurrent layers supported: SimpleRNN, LSTM, GRU:\n",
    "model.add(SimpleRNN(nb_units,\n",
    "                    input_shape=(img_rows, img_cols),return_sequences=True))\n",
    "\n",
    "# To stack multiple RNN layers, all RNN layers except the last one need\n",
    "# to have \"return_sequences=True\".  An example of using two RNN layers:\n",
    "model.add(SimpleRNN(16,\n",
    "                   input_shape=(img_rows, img_cols)))\n",
    "\n",
    "model.add(Dense(units=nb_classes))\n",
    "model.add(Activation('softmax'))\n",
    "\n",
    "model.compile(loss='categorical_crossentropy',\n",
    "              optimizer='adam',\n",
    "              metrics=['accuracy'])\n",
    "\n",
    "print(model.summary())"
   ]
  },
  {
   "cell_type": "code",
   "execution_count": 17,
   "metadata": {},
   "outputs": [
    {
     "name": "stdout",
     "output_type": "stream",
     "text": [
      "Epoch 1/20\n",
      " - 5s - loss: 0.9290 - acc: 0.7204\n",
      "Epoch 2/20\n",
      " - 5s - loss: 0.4113 - acc: 0.8856\n",
      "Epoch 3/20\n",
      " - 5s - loss: 0.3057 - acc: 0.9142\n",
      "Epoch 4/20\n",
      " - 5s - loss: 0.2633 - acc: 0.9262\n",
      "Epoch 5/20\n",
      " - 5s - loss: 0.2313 - acc: 0.9348\n",
      "Epoch 6/20\n",
      " - 5s - loss: 0.2103 - acc: 0.9410\n",
      "Epoch 7/20\n",
      " - 5s - loss: 0.1995 - acc: 0.9438\n",
      "Epoch 8/20\n",
      " - 5s - loss: 0.1832 - acc: 0.9489\n",
      "Epoch 9/20\n",
      " - 6s - loss: 0.1686 - acc: 0.9526\n",
      "Epoch 10/20\n",
      " - 5s - loss: 0.1707 - acc: 0.9515\n",
      "Epoch 11/20\n",
      " - 5s - loss: 0.1529 - acc: 0.9565\n",
      "Epoch 12/20\n",
      " - 6s - loss: 0.1460 - acc: 0.9590\n",
      "Epoch 13/20\n",
      " - 5s - loss: 0.1409 - acc: 0.9594\n",
      "Epoch 14/20\n",
      " - 5s - loss: 0.1331 - acc: 0.9621\n",
      "Epoch 15/20\n",
      " - 5s - loss: 0.1335 - acc: 0.9621\n",
      "Epoch 16/20\n",
      " - 5s - loss: 0.1270 - acc: 0.9638\n",
      "Epoch 17/20\n",
      " - 5s - loss: 0.1247 - acc: 0.9647\n",
      "Epoch 18/20\n",
      " - 5s - loss: 0.1263 - acc: 0.9639\n",
      "Epoch 19/20\n",
      " - 5s - loss: 0.1179 - acc: 0.9668\n",
      "Epoch 20/20\n",
      " - 5s - loss: 0.1165 - acc: 0.9669\n"
     ]
    }
   ],
   "source": [
    "epochs = 20\n",
    "\n",
    "history = model.fit(X_train, \n",
    "                    Y_train, \n",
    "                    epochs=epochs, \n",
    "                    batch_size=128,\n",
    "                    verbose=2)"
   ]
  },
  {
   "cell_type": "code",
   "execution_count": 18,
   "metadata": {},
   "outputs": [
    {
     "name": "stdout",
     "output_type": "stream",
     "text": [
      "loss: 0.16%\n",
      "acc: 0.96%\n"
     ]
    }
   ],
   "source": [
    "#%%time\n",
    "scores = model.evaluate(X_test, Y_test, verbose=2)\n",
    "print(\"%s: %.2f%%\" % (model.metrics_names[0], scores[0]))\n",
    "print(\"%s: %.2f%%\" % (model.metrics_names[1], scores[1]))"
   ]
  },
  {
   "cell_type": "markdown",
   "metadata": {},
   "source": [
    "## (30%) Time series prediction by RNN.\n",
    "\n",
    "Assume time series is $t * sin(t) / 3 + 2 * sin(t*5)$, the problem is to design a RNN model to generate prediction as closer to the original one. You may sample randomly of 20 consecutive values from the time series, and apply your model to generate 20 predicted values to see how closer of your predict values and the original one. "
   ]
  },
  {
   "cell_type": "code",
   "execution_count": null,
   "metadata": {},
   "outputs": [],
   "source": []
  },
  {
   "cell_type": "markdown",
   "metadata": {},
   "source": [
    "## You can also try your model with any other new initial  sequence of values to generate more creative new time series. (music generations)"
   ]
  },
  {
   "cell_type": "markdown",
   "metadata": {},
   "source": [
    "## (10%) Try LSTM cell to classify MNIST data and compare with previous results. "
   ]
  },
  {
   "cell_type": "markdown",
   "metadata": {},
   "source": [
    "## (15%) Words embeddings from data set (http://mattmahoney.net/dc/text8.zip) and plot them. For example, if the model is told that “I drink milk” is a valid sentence, and if it knows that “milk” is close to “water” but far from “shoes,”"
   ]
  },
  {
   "cell_type": "code",
   "execution_count": null,
   "metadata": {},
   "outputs": [],
   "source": []
  },
  {
   "cell_type": "markdown",
   "metadata": {},
   "source": [
    "## (15%) Embedded Reber Grammars\n",
    "\n",
    "Embedded Reber grammars were used by Hochreiter and Schmidhuber in their paper about LSTMs. They are artificial grammars that produce strings such as\n",
    "“BPBTSXXVPSEPE.” Check out Jenny Orr’s nice introduction to this topic.\n",
    "Choose a particular embedded Reber grammar (such as the one represented on Jenny Orr’s page), then train an RNN to identify whether a string respects that\n",
    "grammar or not. You will first need to write a function capable of generating a\n",
    "training batch containing about 50% strings that respect the grammar, and 50%\n",
    "that don’t."
   ]
  },
  {
   "cell_type": "code",
   "execution_count": 19,
   "metadata": {},
   "outputs": [],
   "source": [
    "from __future__ import division, print_function, absolute_import"
   ]
  },
  {
   "cell_type": "code",
   "execution_count": 20,
   "metadata": {},
   "outputs": [],
   "source": [
    "import tensorflow as tf\n",
    "\n",
    "import time\n",
    "\n",
    "import numpy as np"
   ]
  },
  {
   "cell_type": "code",
   "execution_count": 21,
   "metadata": {},
   "outputs": [],
   "source": [
    "from matplotlib import pyplot as plt\n",
    "%matplotlib inline"
   ]
  },
  {
   "cell_type": "code",
   "execution_count": 22,
   "metadata": {},
   "outputs": [],
   "source": [
    "default_reber_grammar=[\n",
    "    [(\"B\",1)],  #(state 0) =B=> (state 1)\n",
    "    [(\"T\", 2),(\"P\", 3)],  # (state 1) =T=> (state 2) or =P=> (state 3)\n",
    "    [(\"X\", 5), (\"S\", 2)], # (state 2) =X=> (state 5) or =S=> (state 2)\n",
    "    [(\"T\", 3), (\"V\", 4)], # (state 3) =T=> (state 3) or =V=> (state 4)\n",
    "    [(\"V\", 6), (\"P\", 5)], # (state 4) =V=> (state 6) or =P=> (state 5)\n",
    "    [(\"X\",3), (\"S\", 6)],  # (state 5) =X=> (state 3) or =S=> (state 6)\n",
    "    [(\"E\", None)]         # (state 6) =E=> <EOS>\n",
    "    \n",
    "]"
   ]
  },
  {
   "cell_type": "code",
   "execution_count": 23,
   "metadata": {},
   "outputs": [],
   "source": [
    "embedded_reber_grammar=[\n",
    "    [(\"B\",1)],  #(state 0) =B=> (state 1)\n",
    "    [(\"T\", 2),(\"P\", 3)],  # (state 1) =T=> (state 2) or =P=> (state 3)\n",
    "    [(default_reber_grammar,4)], # (state 2) =REBER=> (state 4)\n",
    "    [(default_reber_grammar,5)], # (state 3) =REBER=> (state 5)\n",
    "    [(\"P\", 6)], # (state 4) =P=> (state 6)\n",
    "    [(\"T\",6)],  # (state 5) =T=> (state 3)\n",
    "    [(\"E\", None)]         # (state 6) =E=> <EOS>\n",
    "    \n",
    "]"
   ]
  },
  {
   "cell_type": "code",
   "execution_count": 24,
   "metadata": {},
   "outputs": [],
   "source": [
    "def generate_valid_string(grammar):\n",
    "    state = 0\n",
    "    output = []\n",
    "    while state is not None:\n",
    "        char, state = grammar[state][np.random.randint(len(grammar[state]))]\n",
    "        if isinstance(char, list):  # embedded reber\n",
    "            char = generate_valid_string(char)\n",
    "        output.append(char)\n",
    "    return \"\".join(output)"
   ]
  },
  {
   "cell_type": "code",
   "execution_count": 25,
   "metadata": {},
   "outputs": [],
   "source": [
    "def generate_corrupted_string(grammar, chars='BTSXPVE'):\n",
    "    '''Substitute one character to violate the grammar'''\n",
    "    good_string = generate_valid_string(grammar)\n",
    "    idx = np.random.randint(len(good_string))\n",
    "    good_char = good_string[idx]\n",
    "    bad_char = np.random.choice(sorted(set(chars)-set(good_char)))\n",
    "    return good_string[:idx]+bad_char+good_string[idx+1:]"
   ]
  },
  {
   "cell_type": "code",
   "execution_count": 26,
   "metadata": {},
   "outputs": [
    {
     "data": {
      "text/plain": [
       "{'B': 0, 'T': 1, 'S': 2, 'X': 3, 'P': 4, 'V': 5, 'E': 6}"
      ]
     },
     "execution_count": 26,
     "metadata": {},
     "output_type": "execute_result"
    }
   ],
   "source": [
    "chars='BTSXPVE'\n",
    "chars_dict = {a:i for i,a in enumerate(chars)}\n",
    "chars_dict"
   ]
  },
  {
   "cell_type": "code",
   "execution_count": 27,
   "metadata": {},
   "outputs": [],
   "source": [
    "def str2onehot(string, num_steps=12, chars_dict=chars_dict):\n",
    "    res = np.zeros((num_steps, len(chars_dict)))\n",
    "    for i in range(min(len(string), num_steps)):\n",
    "        c = string[i]\n",
    "        res[i][chars_dict[c]] = 1\n",
    "    return res"
   ]
  },
  {
   "cell_type": "code",
   "execution_count": 28,
   "metadata": {},
   "outputs": [],
   "source": [
    "def generate_data(data_size=10000, grammar=embedded_reber_grammar, num_steps=None):\n",
    "    good = [generate_valid_string(grammar) for _ in range(data_size//2)]\n",
    "    bad = [generate_corrupted_string(grammar) for _ in range(data_size//2)]\n",
    "    all_strings = good+bad\n",
    "    if num_steps is None:\n",
    "        num_steps = max([len(s) for s in all_strings])\n",
    "    X = np.array([str2onehot(s) for s in all_strings])\n",
    "    l = np.array([len(s) for s in all_strings])\n",
    "    y = np.concatenate((np.ones(len(good)), np.zeros((len(bad))))).reshape(-1, 1)\n",
    "    idx = np.random.permutation(data_size)\n",
    "    return X[idx], l[idx], y[idx]"
   ]
  },
  {
   "cell_type": "code",
   "execution_count": 29,
   "metadata": {},
   "outputs": [
    {
     "data": {
      "text/plain": [
       "((10000, 12, 7), (5000, 12, 7))"
      ]
     },
     "execution_count": 29,
     "metadata": {},
     "output_type": "execute_result"
    }
   ],
   "source": [
    "np.random.seed(42)\n",
    "X_train, seq_lens_train, y_train = generate_data(10000)\n",
    "X_val, seq_lens_val, y_val = generate_data(5000)\n",
    "X_train.shape, X_val.shape"
   ]
  },
  {
   "cell_type": "code",
   "execution_count": 30,
   "metadata": {},
   "outputs": [],
   "source": [
    "num_inputs = len(chars)\n",
    "num_neurons = 32\n",
    "num_outputs = 1  # reber or not"
   ]
  },
  {
   "cell_type": "code",
   "execution_count": 31,
   "metadata": {},
   "outputs": [
    {
     "name": "stdout",
     "output_type": "stream",
     "text": [
      "\n",
      "WARNING: The TensorFlow contrib module will not be included in TensorFlow 2.0.\n",
      "For more information, please see:\n",
      "  * https://github.com/tensorflow/community/blob/master/rfcs/20180907-contrib-sunset.md\n",
      "  * https://github.com/tensorflow/addons\n",
      "If you depend on functionality not listed there, please file an issue.\n",
      "\n",
      "WARNING:tensorflow:From <ipython-input-31-1c8b227fdb87>:9: GRUCell.__init__ (from tensorflow.python.ops.rnn_cell_impl) is deprecated and will be removed in a future version.\n",
      "Instructions for updating:\n",
      "This class is equivalent as tf.keras.layers.GRUCell, and will be replaced by that in Tensorflow 2.0.\n",
      "WARNING:tensorflow:From <ipython-input-31-1c8b227fdb87>:10: dynamic_rnn (from tensorflow.python.ops.rnn) is deprecated and will be removed in a future version.\n",
      "Instructions for updating:\n",
      "Please use `keras.layers.RNN(cell)`, which is equivalent to this API\n",
      "WARNING:tensorflow:From <ipython-input-31-1c8b227fdb87>:13: dense (from tensorflow.python.layers.core) is deprecated and will be removed in a future version.\n",
      "Instructions for updating:\n",
      "Use keras.layers.dense instead.\n"
     ]
    }
   ],
   "source": [
    "graph = tf.Graph()\n",
    "\n",
    "with graph.as_default():\n",
    "    X = tf.placeholder(tf.float32, [None, None, num_inputs])\n",
    "    seq_lens = tf.placeholder(tf.int32, [None])\n",
    "    y = tf.placeholder(tf.float32, [None, num_outputs])\n",
    "    \n",
    "    with tf.name_scope(\"Model\"):\n",
    "        gru_cell = tf.contrib.rnn.GRUCell(num_neurons)\n",
    "        outputs, states = tf.nn.dynamic_rnn(gru_cell, X, seq_lens, dtype=tf.float32)\n",
    "    \n",
    "    with tf.name_scope(\"logits\"):\n",
    "        logits = tf.layers.dense(states, num_outputs)\n",
    "    \n",
    "    with tf.name_scope(\"optimization\"):\n",
    "        loss = tf.reduce_mean(tf.nn.sigmoid_cross_entropy_with_logits(labels=y, logits=logits))\n",
    "\n",
    "        optimizer = tf.train.AdamOptimizer(learning_rate=0.001).minimize(loss)\n",
    "    \n",
    "    with tf.name_scope(\"Evaluation\"):\n",
    "        predictions = tf.cast(tf.greater(logits, 0.), tf.float32, name=\"predicitons\")\n",
    "        correct = tf.equal(predictions, y)\n",
    "        accuracy = tf.reduce_mean(tf.cast(correct, tf.float32))\n",
    "    init = tf.global_variables_initializer()\n",
    "    saver = tf.train.Saver()"
   ]
  },
  {
   "cell_type": "code",
   "execution_count": 32,
   "metadata": {},
   "outputs": [],
   "source": [
    "def run_session(graph, num_epochs=1000, p_every=1, batch_size=50):\n",
    "    start = time.time()\n",
    "    with tf.Session(graph=graph) as sess:\n",
    "        with tf.device('/gpu'):\n",
    "            init.run()\n",
    "            train_accuracies = dict()\n",
    "            val_accuracies = dict()\n",
    "            losses = dict()\n",
    "            avg_loss = 0\n",
    "            X_batches = np.array_split(X_train, len(X_train)//batch_size)\n",
    "            l_batches = np.array_split(seq_lens_train, len(seq_lens_train)//batch_size)\n",
    "            y_batches = np.array_split(y_train, len(y_train)//batch_size)\n",
    "            avg_loss = 0\n",
    "            for e in range(num_epochs+1):\n",
    "                for X_batch,l_batch,y_batch in zip(X_batches, l_batches, y_batches):\n",
    "                    feed_dict = {X:X_batch, seq_lens:l_batch, y: y_batch.reshape(-1, 1)}\n",
    "                    _, loss_val = sess.run([optimizer, loss], feed_dict=feed_dict)\n",
    "                avg_loss += loss_val\n",
    "                if e%p_every == 0:\n",
    "                    train_accuracy = accuracy.eval(\n",
    "                        feed_dict = {X:X_train, seq_lens:seq_lens_train, y: y_train.reshape(-1, 1)})\n",
    "\n",
    "                    val_accuracy = accuracy.eval(\n",
    "                                             feed_dict={X:X_val,\n",
    "                                                        seq_lens:seq_lens_val,\n",
    "                                                        y:y_val.reshape(-1, 1)})\n",
    "\n",
    "                    losses[e] = avg_loss/p_every if e>0 else avg_loss\n",
    "                    train_accuracies[e] = train_accuracy\n",
    "                    val_accuracies[e] = val_accuracy\n",
    "                    print(\"Epoch {0}:\\nCross_entropy: {1}\\nTrain accuracy: {2}\\nval accuracy: {3}\".format(\n",
    "                    e, avg_loss/10 if e>0 else avg_loss, train_accuracy, val_accuracy))\n",
    "                    print(\"~\"*40)\n",
    "                    \n",
    "                    avg_loss = 0\n",
    "                    \n",
    "            print(\"Took: \", time.time()-start)\n",
    "            saver.save(sess,('./reber'))\n",
    "        \n",
    "\n",
    "        fig, ax1 = plt.subplots(figsize=(12,7))\n",
    "        xticks = sorted(losses.keys())\n",
    "        data1_valid = [train_accuracies[i] for i in xticks]\n",
    "        data1_val = [val_accuracies[i] for i in xticks]\n",
    "        data2 = [losses[i] for i in xticks]\n",
    "\n",
    "        color = 'tab:blue'\n",
    "        ax1.set_xlabel('Epochs')\n",
    "        ax1.set_ylabel('Accuracy', color=color)\n",
    "        ax1.plot(xticks, data1_valid, color=color)\n",
    "        ax1.plot(xticks, data1_val, color='tab:green')\n",
    "        ax1.tick_params(axis='y', labelcolor=color)\n",
    "\n",
    "        ax2 = ax1.twinx()  # instantiate a second axes that shares the same x-axis\n",
    "\n",
    "        color = 'tab:red'\n",
    "        ax2.set_ylabel('Cross-entropy loss', color=color)\n",
    "        ax2.plot(xticks, data2, color=color)\n",
    "        ax2.tick_params(axis='y', labelcolor=color)\n",
    "\n",
    "        ax1.legend(['Train. accuracy', 'val. accuracy'], loc='lower center')\n",
    "        ax2.legend(['Train Cross-entropy loss'], loc='upper left')\n",
    "        fig.tight_layout()  # other"
   ]
  },
  {
   "cell_type": "code",
   "execution_count": 34,
   "metadata": {},
   "outputs": [
    {
     "name": "stdout",
     "output_type": "stream",
     "text": [
      "Epoch 0:\n",
      "Cross_entropy: 0.6896524429321289\n",
      "Train accuracy: 0.6467999815940857\n",
      "val accuracy: 0.6431999802589417\n",
      "~~~~~~~~~~~~~~~~~~~~~~~~~~~~~~~~~~~~~~~~\n",
      "Epoch 1:\n",
      "Cross_entropy: 0.05670747756958008\n",
      "Train accuracy: 0.6858000159263611\n",
      "val accuracy: 0.6952000260353088\n",
      "~~~~~~~~~~~~~~~~~~~~~~~~~~~~~~~~~~~~~~~~\n",
      "Epoch 2:\n",
      "Cross_entropy: 0.052861183881759644\n",
      "Train accuracy: 0.6722000241279602\n",
      "val accuracy: 0.6796000003814697\n",
      "~~~~~~~~~~~~~~~~~~~~~~~~~~~~~~~~~~~~~~~~\n",
      "Epoch 3:\n",
      "Cross_entropy: 0.05066365599632263\n",
      "Train accuracy: 0.7184000015258789\n",
      "val accuracy: 0.7287999987602234\n",
      "~~~~~~~~~~~~~~~~~~~~~~~~~~~~~~~~~~~~~~~~\n",
      "Epoch 4:\n",
      "Cross_entropy: 0.04927193224430084\n",
      "Train accuracy: 0.7387999892234802\n",
      "val accuracy: 0.7447999715805054\n",
      "~~~~~~~~~~~~~~~~~~~~~~~~~~~~~~~~~~~~~~~~\n",
      "Epoch 5:\n",
      "Cross_entropy: 0.05738606452941895\n",
      "Train accuracy: 0.7233999967575073\n",
      "val accuracy: 0.7396000027656555\n",
      "~~~~~~~~~~~~~~~~~~~~~~~~~~~~~~~~~~~~~~~~\n",
      "Took:  4.812327146530151\n"
     ]
    },
    {
     "data": {
      "image/png": "[encoded data removed]",
      "text/plain": [
       "<Figure size 864x504 with 2 Axes>"
      ]
     },
     "metadata": {
      "needs_background": "light"
     },
     "output_type": "display_data"
    }
   ],
   "source": [
    "run_session(graph, num_epochs=5, batch_size=75)"
   ]
  },
  {
   "cell_type": "code",
   "execution_count": null,
   "metadata": {},
   "outputs": [],
   "source": []
  }
 ],
 "metadata": {
  "kernelspec": {
   "display_name": "Python 3",
   "language": "python",
   "name": "python3"
  },
  "language_info": {
   "codemirror_mode": {
    "name": "ipython",
    "version": 3
   },
   "file_extension": ".py",
   "mimetype": "text/x-python",
   "name": "python",
   "nbconvert_exporter": "python",
   "pygments_lexer": "ipython3",
   "version": "3.7.1"
  },
  "nav_menu": {},
  "toc": {
   "navigate_menu": true,
   "number_sections": true,
   "sideBar": true,
   "threshold": 6,
   "toc_cell": false,
   "toc_section_display": "block",
   "toc_window_display": false
  }
 },
 "nbformat": 4,
 "nbformat_minor": 1
}

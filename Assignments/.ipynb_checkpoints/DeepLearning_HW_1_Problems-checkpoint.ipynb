{
 "cells": [
  {
   "cell_type": "markdown",
   "metadata": {},
   "source": [
    "##  1.a (5%) Find the eigenvalues and a basis consisting of eigenvectors of \n",
    "\n",
    "\n",
    "$$A = \\begin{bmatrix}\n",
    "    1  & 1 & -1  \\\\\n",
    "    -3  & -3 & 1  \\\\\n",
    "    -3  & -3 & 1  \\\\\n",
    "\\end{bmatrix}$$"
   ]
  },
  {
   "cell_type": "markdown",
   "metadata": {},
   "source": [
    "##  1.b (5%) Find the coordinates of the vector with respect to the basis of eigenvectors found at problem 1.\n",
    "\n",
    "$$v = \\begin{bmatrix}\n",
    "     0  \\\\\n",
    "     1  \\\\\n",
    "     0  \\\\\n",
    "\\end{bmatrix}$$"
   ]
  },
  {
   "cell_type": "markdown",
   "metadata": {},
   "source": [
    "## 1.c (5%) Calculate  $A^{2019}v$"
   ]
  },
  {
   "cell_type": "markdown",
   "metadata": {},
   "source": [
    "## 2. (10%) A typical page in a book contains one typo per page.  What is the probability that there are exactly 8 typos in a given 10-page chapter?"
   ]
  },
  {
   "cell_type": "markdown",
   "metadata": {},
   "source": [
    "## 3. (10%) Suppose  that  every  page  in  the  chapter  contains  exactly  3000  characters,  and there is still an average of one typo per page.  What is the probability that there are exactly 8 typos in the 10-page chapter?"
   ]
  },
  {
   "cell_type": "markdown",
   "metadata": {},
   "source": [
    "## 4.(10%) Draw an ANN to implment $A \\bigoplus B$"
   ]
  },
  {
   "cell_type": "markdown",
   "metadata": {},
   "source": [
    "## 5. (20%) Train a deep MLP on the MNIST dataset and see if how much accuracy you can ge?\n"
   ]
  },
  {
   "cell_type": "markdown",
   "metadata": {},
   "source": [
    "## 6. (20%) For MNIST, can you design a new model based on CNN to retrain? How much accuracy get now? If you have GPU, try to play with those model paramters."
   ]
  },
  {
   "cell_type": "markdown",
   "metadata": {},
   "source": [
    "## 7. (15%) Given iris.csv data set. Using NN with Cross-Validation to Classify. Report Accuracy."
   ]
  },
  {
   "cell_type": "code",
   "execution_count": null,
   "metadata": {},
   "outputs": [],
   "source": []
  }
 ],
 "metadata": {
  "kernelspec": {
   "display_name": "Python 3",
   "language": "python",
   "name": "python3"
  },
  "language_info": {
   "codemirror_mode": {
    "name": "ipython",
    "version": 3
   },
   "file_extension": ".py",
   "mimetype": "text/x-python",
   "name": "python",
   "nbconvert_exporter": "python",
   "pygments_lexer": "ipython3",
   "version": "3.7.2"
  }
 },
 "nbformat": 4,
 "nbformat_minor": 2
}

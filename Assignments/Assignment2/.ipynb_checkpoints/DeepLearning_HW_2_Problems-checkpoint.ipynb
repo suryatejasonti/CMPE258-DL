{
 "cells": [
  {
   "cell_type": "markdown",
   "metadata": {},
   "source": [
    "## (10%) Can you name the main innovations in AlexNet, compared to LeNet-5? What about the main innovations in GoogLeNet and ResNet?"
   ]
  },
  {
   "cell_type": "markdown",
   "metadata": {},
   "source": [
    "## (50%) Improve Model Performance with Image Augmentation. At this assignment, you will learn \n",
    "\n",
    "1. About the image augmentation API provided by Keras and how to use it with your models.  \n",
    "2. How to perform feature standardization.  \n",
    "3. How to perform ZCA whitening of your images.  \n",
    "4. How to augment data with random rotations, shifts and flips of images.  \n",
    "5. How to save augmented image data to disk.  \n"
   ]
  },
  {
   "cell_type": "markdown",
   "metadata": {},
   "source": [
    "## (a) Comparison Image Preparation. Let's take a look at the first 9 images in the training dataset from keras.\n"
   ]
  },
  {
   "cell_type": "markdown",
   "metadata": {},
   "source": [
    "## (b) Standardize images across the dataset. In this case each image is considered a feature. You can perform feature standardization by setting the featurewise center and featurewise std normalization arguments on the ImageDataGenerator class."
   ]
  },
  {
   "cell_type": "markdown",
   "metadata": {},
   "source": [
    "## (c) A whitening transform of an image is a linear algebra operation that reduces the redundancy in the matrix of pixel images. Less redundancy in the image is intended to better highlight the structures and features in the image to the learning algorithm. Typically, image whitening is performed using the Principal Component Analysis (PCA) technique. More recently, an alternative called ZCA ( See Krizhevsky, 2009, Learning Multiple Layers of Features from Tiny Images) shows better results and results in transformed images that keeps all of the original dimensions and unlike PCA, resulting transformed images still look like their originals. Can you do ZCA whitening transform with keras preprocessing ?"
   ]
  },
  {
   "cell_type": "markdown",
   "metadata": {},
   "source": [
    "## (d) Sometimes images in your sample data may have varying and different rotations in the scene. You can train your model to better handle rotations of images by artificially and randomly rotating images from your dataset during training."
   ]
  },
  {
   "cell_type": "markdown",
   "metadata": {},
   "source": [
    "## (e) Objects in your images may not be centered in the frame. They may be off-center in a variety of difrent ways. You can train your deep learning network to expect and currently handle off-center objects by artificially creating shifted versions of your training data. Try to implement it with keras."
   ]
  },
  {
   "cell_type": "markdown",
   "metadata": {},
   "source": [
    "## (f) Another augmentation to your image data that can improve performance on large and complex problems is to create random flips of images in your training data. Implement it with keras."
   ]
  },
  {
   "cell_type": "markdown",
   "metadata": {},
   "source": [
    "## (g) By appling these augmented techniques to increase the training set size, then compare with your first HW for same model. See whether your accuracy can be improved with augmented traning set."
   ]
  },
  {
   "cell_type": "code",
   "execution_count": null,
   "metadata": {},
   "outputs": [],
   "source": []
  },
  {
   "cell_type": "markdown",
   "metadata": {},
   "source": [
    "## (40%) ## A difficult problem where traditional neural networks fall down is called object recognition. It is where a model is able to identify objects in images. In this lesson you will discover how to develop and evaluate deep learning models for object recognition in Keras. After completing this assignment, you will know:\n",
    "1. About the CIFAR-10 object recognition dataset and how to load and use it in Keras.\n",
    "2. How to create a Convolutional Neural Network for object recognition.\n",
    "3. How to lift performance by creating deeper Convolutional Neural Networks."
   ]
  },
  {
   "cell_type": "markdown",
   "metadata": {},
   "source": [
    "## (a) The CIFAR-10 dataset can easily be loaded in Keras. Keras has the facility to automatically download standard datasets like CIFAR-10 and store them in the ~/.keras/datasets directory using the cifar10.load data() function."
   ]
  },
  {
   "cell_type": "markdown",
   "metadata": {},
   "source": [
    "## (b) Could you design a CNN with two convolutional hidden layers and dropout model? Then apply this to do objet recognition task. You may deeper your CNN to see how performance get improved."
   ]
  },
  {
   "cell_type": "code",
   "execution_count": null,
   "metadata": {},
   "outputs": [],
   "source": []
  },
  {
   "cell_type": "code",
   "execution_count": null,
   "metadata": {},
   "outputs": [],
   "source": []
  }
 ],
 "metadata": {
  "kernelspec": {
   "display_name": "Python 3",
   "language": "python",
   "name": "python3"
  },
  "language_info": {
   "codemirror_mode": {
    "name": "ipython",
    "version": 3
   },
   "file_extension": ".py",
   "mimetype": "text/x-python",
   "name": "python",
   "nbconvert_exporter": "python",
   "pygments_lexer": "ipython3",
   "version": "3.7.2"
  }
 },
 "nbformat": 4,
 "nbformat_minor": 2
}
